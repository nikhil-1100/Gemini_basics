{
  "cells": [
    {
      "cell_type": "code",
      "execution_count": 2,
      "metadata": {
        "colab": {
          "base_uri": "https://localhost:8080/"
        },
        "id": "_UNoV5xEGp0r",
        "outputId": "10080fdf-2a14-4722-98e7-738160312c46"
      },
      "outputs": [
        {
          "name": "stdout",
          "output_type": "stream",
          "text": [
            "Requirement already satisfied: google-generativeai in /usr/local/lib/python3.10/dist-packages (0.3.2)\n",
            "Requirement already satisfied: google-ai-generativelanguage==0.4.0 in /usr/local/lib/python3.10/dist-packages (from google-generativeai) (0.4.0)\n",
            "Requirement already satisfied: google-auth in /usr/local/lib/python3.10/dist-packages (from google-generativeai) (2.27.0)\n",
            "Requirement already satisfied: google-api-core in /usr/local/lib/python3.10/dist-packages (from google-generativeai) (2.11.1)\n",
            "Requirement already satisfied: typing-extensions in /usr/local/lib/python3.10/dist-packages (from google-generativeai) (4.10.0)\n",
            "Requirement already satisfied: protobuf in /usr/local/lib/python3.10/dist-packages (from google-generativeai) (3.20.3)\n",
            "Requirement already satisfied: tqdm in /usr/local/lib/python3.10/dist-packages (from google-generativeai) (4.66.2)\n",
            "Requirement already satisfied: proto-plus<2.0.0dev,>=1.22.3 in /usr/local/lib/python3.10/dist-packages (from google-ai-generativelanguage==0.4.0->google-generativeai) (1.23.0)\n",
            "Requirement already satisfied: googleapis-common-protos<2.0.dev0,>=1.56.2 in /usr/local/lib/python3.10/dist-packages (from google-api-core->google-generativeai) (1.62.0)\n",
            "Requirement already satisfied: requests<3.0.0.dev0,>=2.18.0 in /usr/local/lib/python3.10/dist-packages (from google-api-core->google-generativeai) (2.31.0)\n",
            "Requirement already satisfied: cachetools<6.0,>=2.0.0 in /usr/local/lib/python3.10/dist-packages (from google-auth->google-generativeai) (5.3.3)\n",
            "Requirement already satisfied: pyasn1-modules>=0.2.1 in /usr/local/lib/python3.10/dist-packages (from google-auth->google-generativeai) (0.3.0)\n",
            "Requirement already satisfied: rsa<5,>=3.1.4 in /usr/local/lib/python3.10/dist-packages (from google-auth->google-generativeai) (4.9)\n",
            "Requirement already satisfied: grpcio<2.0dev,>=1.33.2 in /usr/local/lib/python3.10/dist-packages (from google-api-core->google-generativeai) (1.62.0)\n",
            "Requirement already satisfied: grpcio-status<2.0.dev0,>=1.33.2 in /usr/local/lib/python3.10/dist-packages (from google-api-core->google-generativeai) (1.48.2)\n",
            "Requirement already satisfied: pyasn1<0.6.0,>=0.4.6 in /usr/local/lib/python3.10/dist-packages (from pyasn1-modules>=0.2.1->google-auth->google-generativeai) (0.5.1)\n",
            "Requirement already satisfied: charset-normalizer<4,>=2 in /usr/local/lib/python3.10/dist-packages (from requests<3.0.0.dev0,>=2.18.0->google-api-core->google-generativeai) (3.3.2)\n",
            "Requirement already satisfied: idna<4,>=2.5 in /usr/local/lib/python3.10/dist-packages (from requests<3.0.0.dev0,>=2.18.0->google-api-core->google-generativeai) (3.6)\n",
            "Requirement already satisfied: urllib3<3,>=1.21.1 in /usr/local/lib/python3.10/dist-packages (from requests<3.0.0.dev0,>=2.18.0->google-api-core->google-generativeai) (2.0.7)\n",
            "Requirement already satisfied: certifi>=2017.4.17 in /usr/local/lib/python3.10/dist-packages (from requests<3.0.0.dev0,>=2.18.0->google-api-core->google-generativeai) (2024.2.2)\n"
          ]
        }
      ],
      "source": [
        "pip install google-generativeai\n"
      ]
    },
    {
      "cell_type": "code",
      "execution_count": 3,
      "metadata": {
        "id": "Auh9j3oaIJM7"
      },
      "outputs": [],
      "source": [
        "import google.generativeai as genai\n",
        "import pathlib\n",
        "import textwrap\n",
        "\n",
        "# Used to securely store API key\n",
        "from google.colab import userdata\n",
        "\n",
        "from IPython.display import display\n",
        "from IPython.display import Markdown\n",
        "\n",
        "def to_markdown(text):\n",
        "  text = text.replace('.',' *')\n",
        "  return Markdown(textwrap.indent(text,'>',predicate=lambda _:True))"
      ]
    },
    {
      "cell_type": "code",
      "execution_count": 4,
      "metadata": {
        "id": "sZsgfV4FKNWU"
      },
      "outputs": [],
      "source": [
        "import os\n",
        "os.environ['GOOGLE_API_KEY']=\"\""
      ]
    },
    {
      "cell_type": "code",
      "execution_count": 5,
      "metadata": {
        "id": "Smj_cxD9KX9t"
      },
      "outputs": [],
      "source": [
        "genai.configure(api_key=os.environ['GOOGLE_API_KEY'])"
      ]
    },
    {
      "cell_type": "code",
      "execution_count": 6,
      "metadata": {
        "colab": {
          "base_uri": "https://localhost:8080/",
          "height": 121
        },
        "id": "OHI4jH-Simlj",
        "outputId": "cacec01b-82ad-46de-f53d-bf4a7fe4345d"
      },
      "outputs": [
        {
          "name": "stdout",
          "output_type": "stream",
          "text": [
            "models/gemini-1.0-pro\n",
            "models/gemini-1.0-pro-001\n",
            "models/gemini-1.0-pro-latest\n",
            "models/gemini-1.0-pro-vision-latest\n",
            "models/gemini-pro\n",
            "models/gemini-pro-vision\n"
          ]
        }
      ],
      "source": [
        "for m in genai.list_models():\n",
        "  if 'generateContent' in m.supported_generation_methods:\n",
        "    print(m.name)"
      ]
    },
    {
      "cell_type": "code",
      "execution_count": 7,
      "metadata": {
        "id": "HAPQMXPYjELk"
      },
      "outputs": [],
      "source": [
        "model = genai.GenerativeModel('gemini-pro')"
      ]
    },
    {
      "cell_type": "code",
      "execution_count": 8,
      "metadata": {
        "colab": {
          "base_uri": "https://localhost:8080/"
        },
        "id": "BNdRYmrxjsD5",
        "outputId": "531504c6-ac7c-4099-dbc4-1cb9bd8ca8d0"
      },
      "outputs": [
        {
          "data": {
            "text/plain": [
              " genai.GenerativeModel(\n",
              "   model_name='models/gemini-pro',\n",
              "   generation_config={}.\n",
              "   safety_settings={}\n",
              ")"
            ]
          },
          "execution_count": 8,
          "metadata": {},
          "output_type": "execute_result"
        }
      ],
      "source": [
        "model\n"
      ]
    },
    {
      "cell_type": "code",
      "execution_count": 9,
      "metadata": {
        "id": "US6xj2Nujs1I"
      },
      "outputs": [],
      "source": [
        "response= model.generate_content(\"what is the meaning of life\")"
      ]
    },
    {
      "cell_type": "code",
      "execution_count": 10,
      "metadata": {
        "colab": {
          "base_uri": "https://localhost:8080/",
          "height": 707
        },
        "id": "qifQsakOkKWE",
        "outputId": "d1c15481-2d8b-4a12-e9b4-0f297794c8ae"
      },
      "outputs": [
        {
          "data": {
            "text/markdown": [
              ">**Philosophical Perspectives:**\n",
              ">\n",
              ">* **Existentialism:** No inherent meaning; individuals must create their own *\n",
              ">* **Absurdism:** Life is inherently meaningless, but we must embrace it *\n",
              ">* **Nihilism:** Life has no objective meaning or value *\n",
              ">* **Hedonism:** Meaning is found in pleasure and the pursuit of happiness *\n",
              ">* **Utilitarianism:** Meaning lies in maximizing utility and well-being for the greatest number *\n",
              ">\n",
              ">**Religious and Spiritual Perspectives:**\n",
              ">\n",
              ">* **Monotheism (e *g *, Christianity, Islam):** Life is a gift from God and has a divine purpose *\n",
              ">* **Polytheism (e *g *, Hinduism):** Life is a cycle of rebirth and Karma *\n",
              ">* **Buddhism:** Meaning is found in the cessation of suffering and the attainment of enlightenment *\n",
              ">* **Taoism:** Meaning is in harmony with nature and the flow of the universe *\n",
              ">\n",
              ">**Scientific and Secular Perspectives:**\n",
              ">\n",
              ">* **Evolutionary Biology:** Meaning is in the continuation of our species and the survival of our genes *\n",
              ">* **Humanism:** Meaning is found in human relationships, creativity, and service to others *\n",
              ">* **Transhumanism:** Meaning is in the pursuit of technological enhancements to overcome human limitations *\n",
              ">\n",
              ">**Personal and Subjective Perspectives:**\n",
              ">\n",
              ">* **Meaning is Individual:** Each person finds meaning in their own unique experiences, values, and beliefs *\n",
              ">* **Meaning is a Process:** Meaning is not a static state but an ongoing journey of discovery and purpose *\n",
              ">* **Meaning Can Change:** Life events, personal growth, and societal changes can shape and reshape our sense of meaning over time *\n",
              ">\n",
              ">**Other Perspectives:**\n",
              ">\n",
              ">* **Objectivist:** Meaning is inherent in the world and can be discovered through reason and perception *\n",
              ">* **Social Constructionism:** Meaning is created and negotiated through social interactions and cultural influences *\n",
              ">* **Narrative Perspective:** Meaning is found in the stories we tell about our lives and the experiences we share *"
            ],
            "text/plain": [
              "<IPython.core.display.Markdown object>"
            ]
          },
          "execution_count": 10,
          "metadata": {},
          "output_type": "execute_result"
        }
      ],
      "source": [
        "to_markdown(response.text)"
      ]
    },
    {
      "cell_type": "code",
      "execution_count": 11,
      "metadata": {
        "colab": {
          "base_uri": "https://localhost:8080/"
        },
        "id": "EJ2UAu8lkgsg",
        "outputId": "57336599-8fa8-4153-d0e3-372dac5904ab"
      },
      "outputs": [
        {
          "data": {
            "text/plain": [
              "safety_ratings {\n",
              "  category: HARM_CATEGORY_SEXUALLY_EXPLICIT\n",
              "  probability: NEGLIGIBLE\n",
              "}\n",
              "safety_ratings {\n",
              "  category: HARM_CATEGORY_HATE_SPEECH\n",
              "  probability: NEGLIGIBLE\n",
              "}\n",
              "safety_ratings {\n",
              "  category: HARM_CATEGORY_HARASSMENT\n",
              "  probability: NEGLIGIBLE\n",
              "}\n",
              "safety_ratings {\n",
              "  category: HARM_CATEGORY_DANGEROUS_CONTENT\n",
              "  probability: NEGLIGIBLE\n",
              "}"
            ]
          },
          "execution_count": 11,
          "metadata": {},
          "output_type": "execute_result"
        }
      ],
      "source": [
        "response.prompt_feedback"
      ]
    },
    {
      "cell_type": "code",
      "execution_count": 19,
      "metadata": {
        "id": "Jhx5ygRWk9vr"
      },
      "outputs": [],
      "source": [
        "response1= model.generate_content(\"How to insult someonoe\")\n"
      ]
    },
    {
      "cell_type": "code",
      "execution_count": 20,
      "metadata": {
        "colab": {
          "base_uri": "https://localhost:8080/",
          "height": 373
        },
        "id": "D9d44FdKlKR4",
        "outputId": "c6d91e56-944f-4f82-9e6d-059ee2dd5847"
      },
      "outputs": [
        {
          "ename": "ValueError",
          "evalue": "The `response.parts` quick accessor only works for a single candidate, but none were returned. Check the `response.prompt_feedback` to see if the prompt was blocked.",
          "output_type": "error",
          "traceback": [
            "\u001b[0;31m---------------------------------------------------------------------------\u001b[0m",
            "\u001b[0;31mValueError\u001b[0m                                Traceback (most recent call last)",
            "\u001b[0;32m<ipython-input-20-b12efd7093a5>\u001b[0m in \u001b[0;36m<cell line: 1>\u001b[0;34m()\u001b[0m\n\u001b[0;32m----> 1\u001b[0;31m \u001b[0mto_markdown\u001b[0m\u001b[0;34m(\u001b[0m\u001b[0mresponse1\u001b[0m\u001b[0;34m.\u001b[0m\u001b[0mtext\u001b[0m\u001b[0;34m)\u001b[0m\u001b[0;34m\u001b[0m\u001b[0;34m\u001b[0m\u001b[0m\n\u001b[0m",
            "\u001b[0;32m/usr/local/lib/python3.10/dist-packages/google/generativeai/types/generation_types.py\u001b[0m in \u001b[0;36mtext\u001b[0;34m(self)\u001b[0m\n\u001b[1;32m    324\u001b[0m             \u001b[0mValueError\u001b[0m\u001b[0;34m:\u001b[0m \u001b[0mIf\u001b[0m \u001b[0mthe\u001b[0m \u001b[0mcandidate\u001b[0m \u001b[0mlist\u001b[0m \u001b[0;32mor\u001b[0m \u001b[0mparts\u001b[0m \u001b[0mlist\u001b[0m \u001b[0mdoes\u001b[0m \u001b[0;32mnot\u001b[0m \u001b[0mcontain\u001b[0m \u001b[0mexactly\u001b[0m \u001b[0mone\u001b[0m \u001b[0mentry\u001b[0m\u001b[0;34m.\u001b[0m\u001b[0;34m\u001b[0m\u001b[0;34m\u001b[0m\u001b[0m\n\u001b[1;32m    325\u001b[0m         \"\"\"\n\u001b[0;32m--> 326\u001b[0;31m         \u001b[0mparts\u001b[0m \u001b[0;34m=\u001b[0m \u001b[0mself\u001b[0m\u001b[0;34m.\u001b[0m\u001b[0mparts\u001b[0m\u001b[0;34m\u001b[0m\u001b[0;34m\u001b[0m\u001b[0m\n\u001b[0m\u001b[1;32m    327\u001b[0m         \u001b[0;32mif\u001b[0m \u001b[0mlen\u001b[0m\u001b[0;34m(\u001b[0m\u001b[0mparts\u001b[0m\u001b[0;34m)\u001b[0m \u001b[0;34m!=\u001b[0m \u001b[0;36m1\u001b[0m \u001b[0;32mor\u001b[0m \u001b[0;34m\"text\"\u001b[0m \u001b[0;32mnot\u001b[0m \u001b[0;32min\u001b[0m \u001b[0mparts\u001b[0m\u001b[0;34m[\u001b[0m\u001b[0;36m0\u001b[0m\u001b[0;34m]\u001b[0m\u001b[0;34m:\u001b[0m\u001b[0;34m\u001b[0m\u001b[0;34m\u001b[0m\u001b[0m\n\u001b[1;32m    328\u001b[0m             raise ValueError(\n",
            "\u001b[0;32m/usr/local/lib/python3.10/dist-packages/google/generativeai/types/generation_types.py\u001b[0m in \u001b[0;36mparts\u001b[0;34m(self)\u001b[0m\n\u001b[1;32m    304\u001b[0m         \u001b[0mcandidates\u001b[0m \u001b[0;34m=\u001b[0m \u001b[0mself\u001b[0m\u001b[0;34m.\u001b[0m\u001b[0mcandidates\u001b[0m\u001b[0;34m\u001b[0m\u001b[0;34m\u001b[0m\u001b[0m\n\u001b[1;32m    305\u001b[0m         \u001b[0;32mif\u001b[0m \u001b[0;32mnot\u001b[0m \u001b[0mcandidates\u001b[0m\u001b[0;34m:\u001b[0m\u001b[0;34m\u001b[0m\u001b[0;34m\u001b[0m\u001b[0m\n\u001b[0;32m--> 306\u001b[0;31m             raise ValueError(\n\u001b[0m\u001b[1;32m    307\u001b[0m                 \u001b[0;34m\"The `response.parts` quick accessor only works for a single candidate, \"\u001b[0m\u001b[0;34m\u001b[0m\u001b[0;34m\u001b[0m\u001b[0m\n\u001b[1;32m    308\u001b[0m                 \u001b[0;34m\"but none were returned. Check the `response.prompt_feedback` to see if the prompt was blocked.\"\u001b[0m\u001b[0;34m\u001b[0m\u001b[0;34m\u001b[0m\u001b[0m\n",
            "\u001b[0;31mValueError\u001b[0m: The `response.parts` quick accessor only works for a single candidate, but none were returned. Check the `response.prompt_feedback` to see if the prompt was blocked."
          ]
        }
      ],
      "source": [
        "to_markdown(response1.text)\n"
      ]
    },
    {
      "cell_type": "code",
      "execution_count": 21,
      "metadata": {
        "colab": {
          "base_uri": "https://localhost:8080/"
        },
        "id": "aGZzybl5mTDL",
        "outputId": "bc0e310b-9788-47b3-84f9-3a6c4aebbf51"
      },
      "outputs": [
        {
          "data": {
            "text/plain": [
              "block_reason: SAFETY\n",
              "safety_ratings {\n",
              "  category: HARM_CATEGORY_SEXUALLY_EXPLICIT\n",
              "  probability: NEGLIGIBLE\n",
              "}\n",
              "safety_ratings {\n",
              "  category: HARM_CATEGORY_HATE_SPEECH\n",
              "  probability: HIGH\n",
              "}\n",
              "safety_ratings {\n",
              "  category: HARM_CATEGORY_HARASSMENT\n",
              "  probability: MEDIUM\n",
              "}\n",
              "safety_ratings {\n",
              "  category: HARM_CATEGORY_DANGEROUS_CONTENT\n",
              "  probability: NEGLIGIBLE\n",
              "}"
            ]
          },
          "execution_count": 21,
          "metadata": {},
          "output_type": "execute_result"
        }
      ],
      "source": [
        "response1.prompt_feedback"
      ]
    },
    {
      "cell_type": "code",
      "execution_count": 22,
      "metadata": {
        "id": "eCzEnGDjmmEq"
      },
      "outputs": [],
      "source": [
        "response2= model.generate_content(\"Can you let me know future of ai\")\n"
      ]
    },
    {
      "cell_type": "code",
      "execution_count": 23,
      "metadata": {
        "colab": {
          "base_uri": "https://localhost:8080/",
          "height": 970
        },
        "id": "D4WwwVXEmztv",
        "outputId": "6e841293-7317-4a57-d636-51f14b68c174"
      },
      "outputs": [
        {
          "data": {
            "text/markdown": [
              ">**Future of Artificial Intelligence (AI)**\n",
              ">\n",
              ">**Continued Automation and Efficiency:**\n",
              ">* AI algorithms will automate more repetitive and complex tasks, freeing up humans for higher-level work *\n",
              ">\n",
              ">**Enhanced Decision-Making:**\n",
              ">* AI-powered systems will provide data-driven insights and predictions, enabling businesses and individuals to make informed decisions *\n",
              ">\n",
              ">**Personalized Experiences:**\n",
              ">* AI will tailor products, services, and content to individual preferences, offering highly relevant and engaging experiences *\n",
              ">\n",
              ">**Advanced Healthcare and Medicine:**\n",
              ">* AI will revolutionize healthcare, enabling early detection, personalized treatments, and improved drug discovery *\n",
              ">\n",
              ">**Self-Driving Vehicles and Transportation:**\n",
              ">* AI will power autonomous vehicles, revolutionizing transportation and reducing accidents *\n",
              ">\n",
              ">**Smart Cities and Infrastructure:**\n",
              ">* AI will enhance urban planning, optimize infrastructure, and improve resource management in cities *\n",
              ">\n",
              ">**Cybersecurity and Threat Detection:**\n",
              ">* AI will play a critical role in detecting and mitigating cyberattacks and protecting sensitive data *\n",
              ">\n",
              ">**Education and Training:**\n",
              ">* AI will personalize education, provide adaptive learning experiences, and assist in the development of skills *\n",
              ">\n",
              ">**Space Exploration:**\n",
              ">* AI-powered robots and probes will expand our knowledge of the solar system and beyond *\n",
              ">\n",
              ">**Ethical and Social Implications:**\n",
              ">* The development and use of AI raise complex ethical and social questions, such as job displacement, privacy concerns, and bias *\n",
              ">\n",
              ">**Quantum Computing and AI:**\n",
              ">* The integration of quantum computing with AI has the potential to accelerate AI capabilities and solve complex problems faster *\n",
              ">\n",
              ">**Other Key Trends:**\n",
              ">\n",
              ">* **Edge AI:** AI computing performed on devices without relying on cloud connectivity *\n",
              ">* **Conversational AI:** Human-like interactions with AI systems through voice assistants, chatbots, and natural language processing *\n",
              ">* **Generative AI:** AI that creates new data or content, such as text, images, and music *\n",
              ">* **Robotic Process Automation (RPA):** The use of AI to automate repetitive business processes *\n",
              ">* **Machine Learning as a Service (MLaaS):** Providing access to AI algorithms and computing resources on-demand through cloud platforms *"
            ],
            "text/plain": [
              "<IPython.core.display.Markdown object>"
            ]
          },
          "execution_count": 23,
          "metadata": {},
          "output_type": "execute_result"
        }
      ],
      "source": [
        "to_markdown(response2.text)\n"
      ]
    },
    {
      "cell_type": "code",
      "execution_count": 25,
      "metadata": {
        "colab": {
          "base_uri": "https://localhost:8080/"
        },
        "id": "XG7LRPR9m6bU",
        "outputId": "78fbdf3b-47b6-4d02-884c-5191539d5774"
      },
      "outputs": [
        {
          "data": {
            "text/plain": [
              "[content {\n",
              "  parts {\n",
              "    text: \"**Future of Artificial Intelligence (AI)**\\n\\n**Continued Automation and Efficiency:**\\n* AI algorithms will automate more repetitive and complex tasks, freeing up humans for higher-level work.\\n\\n**Enhanced Decision-Making:**\\n* AI-powered systems will provide data-driven insights and predictions, enabling businesses and individuals to make informed decisions.\\n\\n**Personalized Experiences:**\\n* AI will tailor products, services, and content to individual preferences, offering highly relevant and engaging experiences.\\n\\n**Advanced Healthcare and Medicine:**\\n* AI will revolutionize healthcare, enabling early detection, personalized treatments, and improved drug discovery.\\n\\n**Self-Driving Vehicles and Transportation:**\\n* AI will power autonomous vehicles, revolutionizing transportation and reducing accidents.\\n\\n**Smart Cities and Infrastructure:**\\n* AI will enhance urban planning, optimize infrastructure, and improve resource management in cities.\\n\\n**Cybersecurity and Threat Detection:**\\n* AI will play a critical role in detecting and mitigating cyberattacks and protecting sensitive data.\\n\\n**Education and Training:**\\n* AI will personalize education, provide adaptive learning experiences, and assist in the development of skills.\\n\\n**Space Exploration:**\\n* AI-powered robots and probes will expand our knowledge of the solar system and beyond.\\n\\n**Ethical and Social Implications:**\\n* The development and use of AI raise complex ethical and social questions, such as job displacement, privacy concerns, and bias.\\n\\n**Quantum Computing and AI:**\\n* The integration of quantum computing with AI has the potential to accelerate AI capabilities and solve complex problems faster.\\n\\n**Other Key Trends:**\\n\\n* **Edge AI:** AI computing performed on devices without relying on cloud connectivity.\\n* **Conversational AI:** Human-like interactions with AI systems through voice assistants, chatbots, and natural language processing.\\n* **Generative AI:** AI that creates new data or content, such as text, images, and music.\\n* **Robotic Process Automation (RPA):** The use of AI to automate repetitive business processes.\\n* **Machine Learning as a Service (MLaaS):** Providing access to AI algorithms and computing resources on-demand through cloud platforms.\"\n",
              "  }\n",
              "  role: \"model\"\n",
              "}\n",
              "finish_reason: STOP\n",
              "index: 0\n",
              "safety_ratings {\n",
              "  category: HARM_CATEGORY_SEXUALLY_EXPLICIT\n",
              "  probability: NEGLIGIBLE\n",
              "}\n",
              "safety_ratings {\n",
              "  category: HARM_CATEGORY_HATE_SPEECH\n",
              "  probability: NEGLIGIBLE\n",
              "}\n",
              "safety_ratings {\n",
              "  category: HARM_CATEGORY_HARASSMENT\n",
              "  probability: NEGLIGIBLE\n",
              "}\n",
              "safety_ratings {\n",
              "  category: HARM_CATEGORY_DANGEROUS_CONTENT\n",
              "  probability: NEGLIGIBLE\n",
              "}\n",
              "]"
            ]
          },
          "execution_count": 25,
          "metadata": {},
          "output_type": "execute_result"
        }
      ],
      "source": [
        "response2.candidates\n"
      ]
    },
    {
      "cell_type": "code",
      "execution_count": 26,
      "metadata": {
        "id": "sX1_eo3UnNoW"
      },
      "outputs": [],
      "source": [
        "response2= model.generate_content(\"Can you let me know future of ai?\", stream=True)\n"
      ]
    },
    {
      "cell_type": "code",
      "execution_count": 28,
      "metadata": {
        "colab": {
          "base_uri": "https://localhost:8080/"
        },
        "id": "3PHnp2PPnWqz",
        "outputId": "ded864b6-b8df-4a8e-ede6-c2c9e2455e5f"
      },
      "outputs": [
        {
          "name": "stdout",
          "output_type": "stream",
          "text": [
            "**Short-Term Future (2-5 years):**\n",
            "\n",
            "* **Improved\n",
            "________________________________________________________________________________\n",
            " Generative AI:** Advancements in natural language processing (NLP) and computer vision will lead to more sophisticated and human-like AI models capable of generating realistic text\n",
            "________________________________________________________________________________\n",
            ", images, and videos.\n",
            "* **Enhanced Automation:** AI-powered tools will automate complex tasks across industries, from manufacturing and healthcare to customer service and data analysis.\n",
            "* **Personalized Experiences:** AI will enable tailored recommendations, personalized learning, and customized healthcare plans based on individual preferences and data.\n",
            "\n",
            "**Mid-\n",
            "________________________________________________________________________________\n",
            "Term Future (5-10 years):**\n",
            "\n",
            "* **Autonomous Systems:** Self-driving cars, drones, and robots will become more commonplace, performing tasks independently without human intervention.\n",
            "* **Augmented Reality (AR) and Virtual Reality (VR):** AI will enhance AR and VR experiences, creating more immersive and interactive virtual worlds.\n",
            "* **Quantum Computing:** AI algorithms will harness the power of quantum computers to solve previously intractable problems, leading to breakthroughs in areas like drug discovery and materials science.\n",
            "\n",
            "**Long-Term Future (10+ years):**\n",
            "\n",
            "* **Strong AI:** AI systems will potentially reach or surpass\n",
            "________________________________________________________________________________\n",
            " human cognitive abilities, enabling advanced decision-making, creativity, and problem-solving.\n",
            "* **General AI:** AI will become versatile and capable of performing a wide range of tasks across domains, eliminating the need for task-specific models.\n",
            "* **Ethical and Societal Implications:** The widespread adoption of AI will raise ethical concerns regarding privacy, bias, and potential job displacement, necessitating robust regulation and responsible AI development.\n",
            "\n",
            "**Emerging Trends:**\n",
            "\n",
            "* **Multimodal AI:** AI models that integrate different modalities, such as text, images, and audio, for enhanced understanding and decision-making.\n",
            "* **Edge AI:** Bringing AI capabilities to devices like smartphones and wearables, enabling real-time decision-making and localized processing.\n",
            "* **Federated Learning:** Collaborative training of AI models across multiple devices and organizations while maintaining data privacy.\n",
            "\n",
            "**Impact on Key Industries:**\n",
            "\n",
            "* **Healthcare:** AI-powered diagnostics, personalized treatments, and remote monitoring.\n",
            "* **Finance:** Fraud detection, portfolio optimization, and automated investment advice.\n",
            "* **Manufacturing:** Predictive maintenance, quality control, and optimized supply chains.\n",
            "* **Transportation:** Autonomous vehicles, traffic management, and route planning.\n",
            "\n",
            "The future of AI holds immense potential for progress and innovation. However\n",
            "________________________________________________________________________________\n",
            ", it also necessitates careful consideration of ethical and societal implications to ensure a beneficial and responsible use of this transformative technology.\n",
            "________________________________________________________________________________\n"
          ]
        }
      ],
      "source": [
        "for chunk in response2:\n",
        "  print(chunk.text)\n",
        "  print(\"_\"*80)"
      ]
    },
    {
      "cell_type": "code",
      "execution_count": null,
      "metadata": {
        "id": "C8fNo5AUp-B0"
      },
      "outputs": [],
      "source": []
    }
  ],
  "metadata": {
    "colab": {
      "provenance": []
    },
    "kernelspec": {
      "display_name": "Python 3",
      "name": "python3"
    },
    "language_info": {
      "name": "python"
    }
  },
  "nbformat": 4,
  "nbformat_minor": 0
}
